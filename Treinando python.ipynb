{
 "cells": [
  {
   "cell_type": "code",
   "execution_count": 1,
   "id": "cb2ed1fb-7f05-479e-a8b3-401ff6f24cb7",
   "metadata": {},
   "outputs": [
    {
     "name": "stdout",
     "output_type": "stream",
     "text": [
      "Hello world!\n"
     ]
    }
   ],
   "source": [
    "print (\"Hello world!\")"
   ]
  },
  {
   "cell_type": "code",
   "execution_count": 5,
   "id": "b8904153-f2fa-44aa-a2b0-b30a1d10b92e",
   "metadata": {
    "scrolled": true
   },
   "outputs": [
    {
     "name": "stdout",
     "output_type": "stream",
     "text": [
      "Digite o valor do seu salário:  18235.62\n"
     ]
    },
    {
     "name": "stdout",
     "output_type": "stream",
     "text": [
      "Seu novo salário é  20970.96 !\n"
     ]
    }
   ],
   "source": [
    "# Faça um algoritmo que receba o salário de um funcionário, calcule e mostre o novo salário, sabendo-se que este sofreu um aumento de 15%.\n",
    "\n",
    "salario = float(input(\"Digite o valor do seu salário: \"))\n",
    "novo_salario = salario + (salario * 0.15)\n",
    "print (f\"Seu novo salário é {novo_salario: .2f} !\")"
   ]
  },
  {
   "cell_type": "code",
   "execution_count": null,
   "id": "e51c993b-386e-4f19-ad6f-d854950f90d2",
   "metadata": {},
   "outputs": [],
   "source": [
    "#Os operadores lógicos funcionam assim:\n",
    "\n",
    "#- Operador **and** - Retorna True se ambas as declarações forem verdadeiras.\n",
    "#- Operador **or** - Retorna True se uma das declarações for verdadeira.\n",
    "#- Operador **not** - Inverte o resultado, retorna False se o resultado for True."
   ]
  },
  {
   "cell_type": "code",
   "execution_count": 8,
   "id": "a96a4a08-d09d-4661-a661-71c6fd408963",
   "metadata": {},
   "outputs": [
    {
     "name": "stdout",
     "output_type": "stream",
     "text": [
      "Digite o valor de x:  8\n",
      "Digite o valor de y:  5\n"
     ]
    },
    {
     "name": "stdout",
     "output_type": "stream",
     "text": [
      "O valor 8.0 é o maior!\n"
     ]
    }
   ],
   "source": [
    "# Faça um Programa que peça dois números e imprima o maior deles.\n",
    "\n",
    "x = float(input(\"Digite o valor de x: \"))\n",
    "y = float(input(\"Digite o valor de y: \"))\n",
    "if x > y:\n",
    "    print(f\"O valor {x} é o maior!\")\n",
    "elif y > x:\n",
    "    print(f\"O valor {y} é o maior!\")\n",
    "else:\n",
    "    print(f\"O valor de {x} e {y} são iguais!\")"
   ]
  },
  {
   "cell_type": "code",
   "execution_count": 10,
   "id": "9dd036c6-5615-4875-bf99-e462c94328c2",
   "metadata": {},
   "outputs": [
    {
     "name": "stdout",
     "output_type": "stream",
     "text": [
      "Digite uma letra:  k\n"
     ]
    },
    {
     "name": "stdout",
     "output_type": "stream",
     "text": [
      "A letra K é uma consoante!\n"
     ]
    }
   ],
   "source": [
    "# Faça um Programa que verifique se uma letra digitada é vogal ou consoante.\n",
    "\n",
    "letra = input(\"Digite uma letra: \")\n",
    "letra = letra.upper()\n",
    "if letra in \"AEIOU\":\n",
    "    print(f\"A letra {letra} é uma vogal!\")\n",
    "else:\n",
    "    print(f\"A letra {letra} é uma consoante!\")"
   ]
  },
  {
   "cell_type": "code",
   "execution_count": null,
   "id": "9e0b8d94-b3c8-4123-b2f5-b4fbb6f1cdfe",
   "metadata": {},
   "outputs": [],
   "source": [
    "#Faça um programa que receba a idade de um nadador e mostre a sua categoria usando as regras a seguir:\n",
    "\n",
    "Categoria_______Idade\n",
    "\n",
    "Infantil___________5 a 7\n",
    "Juvenil___________8 a 10\n",
    "Adolescente_____11 a 15\n",
    "Adulto___________16 a 30\n",
    "Sênior____________Acima de 30"
   ]
  },
  {
   "cell_type": "code",
   "execution_count": 19,
   "id": "fdd5e6ab-2bb5-4080-ac28-9177f0595e4f",
   "metadata": {},
   "outputs": [
    {
     "name": "stdout",
     "output_type": "stream",
     "text": [
      "Digite a idade do nadador:  4\n"
     ]
    },
    {
     "name": "stdout",
     "output_type": "stream",
     "text": [
      "Idade inválida.\n"
     ]
    }
   ],
   "source": [
    "idade = int(input(\"Digite a idade do nadador: \"))\n",
    "if (idade >=5) and (idade <=7):\n",
    "    print(\"Pertence a categoria INFANTIL.\")\n",
    "elif (idade >=8) and (idade <=10):\n",
    "    print(\"Pertence a categoria JUVENIL.\")\n",
    "elif (idade >=11) and (idade <=15):\n",
    "    print(\"Pertence a categoria ADOLESCENTE.\")\n",
    "elif (idade >=16) and (idade <=30):\n",
    "    print(\"Pertence a categoria ADULTO.\")\n",
    "elif (idade >30):\n",
    "    print(\"Pertence a categoria SÊNIOR.\")\n",
    "else:\n",
    "    print(\"Idade inválida.\")"
   ]
  },
  {
   "cell_type": "code",
   "execution_count": null,
   "id": "c5d88ec6-72e5-4172-bc2e-d11d29762064",
   "metadata": {},
   "outputs": [],
   "source": [
    "4. Faça um Programa que peça os 3 lados de um triângulo. O programa deverá informar se os valores podem ser um triângulo. \n",
    "Indique, caso os lados formem um triângulo, se o mesmo é: equilátero, isósceles ou escaleno.\n",
    "Dicas:\n",
    "- Três lados formam um triângulo quando a soma de quaisquer dois lados for maior que o terceiro;\n",
    "- Triângulo Equilátero: três lados iguais;\n",
    "- Triângulo Isósceles: quaisquer dois lados iguais;\n",
    "- Triângulo Escaleno: três lados diferentes;"
   ]
  },
  {
   "cell_type": "code",
   "execution_count": 26,
   "id": "eb5e018e-5c72-4c6c-9ff1-01d3cdde3b40",
   "metadata": {},
   "outputs": [
    {
     "name": "stdout",
     "output_type": "stream",
     "text": [
      "Digite o valor do primeiro lado do triângulo:  5\n",
      "Digite o valor do segundo lado do triângulo:  5\n",
      "Digite o valor do terceiro lado do triângulo:  4\n"
     ]
    },
    {
     "name": "stdout",
     "output_type": "stream",
     "text": [
      "É um triângulo isósceles!\n"
     ]
    }
   ],
   "source": [
    "#Solicito o valor dos lados do triângulo\n",
    "lado1 = float(input(\"Digite o valor do primeiro lado do triângulo: \"))\n",
    "lado2 = float(input(\"Digite o valor do segundo lado do triângulo: \"))\n",
    "lado3 = float(input(\"Digite o valor do terceiro lado do triângulo: \"))\n",
    "\n",
    "#Verifica se os lados podem formar um triângulo\n",
    "ehtriangulo = False\n",
    "\n",
    "if (lado1 + lado2 > lado3) and (lado1 + lado3 > lado2) and (lado2 + lado3 > lado1):\n",
    "    ehtriangulo = True\n",
    "\n",
    "#Se não formarem um triângulo\n",
    "if not ehtriangulo:\n",
    "    print(\"Os lados não podem formar um triângulo!\")\n",
    "\n",
    "#Se formarem um triângulo, verificar qual o tipo\n",
    "if ehtriangulo:\n",
    "    if (lado1 == lado2 == lado3):\n",
    "        print(\"É um triângulo equilátero!\")\n",
    "    elif (lado1 == lado2) or (lado2 == lado3) or (lado1 == lado3):\n",
    "        print(\"É um triângulo isósceles!\")\n",
    "    else:\n",
    "        print(\"É um triângulo escaleno!\")"
   ]
  },
  {
   "cell_type": "code",
   "execution_count": 36,
   "id": "806ccb4b-c55f-4a26-8ecc-c1c4b9084484",
   "metadata": {},
   "outputs": [
    {
     "name": "stdout",
     "output_type": "stream",
     "text": [
      "Digite o valor 1:  90\n",
      "Digite o valor 2:  60\n",
      "Digite o valor 3:  30\n"
     ]
    },
    {
     "name": "stdout",
     "output_type": "stream",
     "text": [
      "Média aritmética: 75.0\n"
     ]
    }
   ],
   "source": [
    "#Você deve receber 3 valores inteiros positivos. E deve retornar a média aritmética dos dois maiores valores.\n",
    "\n",
    "valor1 = int(input(\"Digite o valor 1: \"))\n",
    "valor2 = int(input(\"Digite o valor 2: \"))\n",
    "valor3 = int(input(\"Digite o valor 3: \"))\n",
    "\n",
    "if (valor1 >= valor2) or (valor1 >= valor3): \n",
    "    maior_valor1 = valor1\n",
    "\n",
    "elif (valor2 >= valor1) or (valor2 >= valor3):\n",
    "    maior_valor1 = valor2\n",
    "\n",
    "if (valor3 >= valor2) or (valor3 >= valor1):\n",
    "    maior_valor2 = valor3\n",
    "    media_aritmetica = (maior_valor1 + maior_valor2) / 2\n",
    "    print(f\"Média aritmética: {media_aritmetica}\")\n",
    "\n",
    "elif (valor2 >= valor1) or (valor2 >= valor3):\n",
    "    maior_valor2 = valor2\n",
    "    media_aritmetica = (maior_valor1 + maior_valor2) / 2\n",
    "    print(f\"Média aritmética: {media_aritmetica}\")"
   ]
  },
  {
   "cell_type": "code",
   "execution_count": 41,
   "id": "aa5a7924-cc42-4f5a-b220-4da32ddcfcf0",
   "metadata": {},
   "outputs": [
    {
     "name": "stdout",
     "output_type": "stream",
     "text": [
      "Digite o valor da área:  150.00\n"
     ]
    },
    {
     "name": "stdout",
     "output_type": "stream",
     "text": [
      "A=70685.7750\n"
     ]
    }
   ],
   "source": [
    "#A fórmula para calcular a área de uma circunferência é: area = π . raio2. \n",
    "#Considerando para este problema que π = 3.14159:\n",
    "#Efetue o cálculo da área, elevando o valor de raio ao quadrado e multiplicando por π.\n",
    "\n",
    "n = 3.14159\n",
    "raio = float(input(\"Digite o valor da área: \"))\n",
    "area = n * (raio ** 2)\n",
    "print(f\"A={area:.4f}\")"
   ]
  },
  {
   "cell_type": "code",
   "execution_count": 44,
   "id": "66e3d198-7426-4542-846a-5644a96eeed5",
   "metadata": {},
   "outputs": [
    {
     "name": "stdout",
     "output_type": "stream",
     "text": [
      " 5\n",
      " 6\n"
     ]
    },
    {
     "name": "stdout",
     "output_type": "stream",
     "text": [
      "X = 11\n"
     ]
    }
   ],
   "source": [
    "A = int(input(\"\"))\n",
    "B = int(input(\"\"))\n",
    "X = A + B\n",
    "print(f\"X = {X}\")"
   ]
  },
  {
   "cell_type": "code",
   "execution_count": 45,
   "id": "0940aceb-60a4-4dca-b8b0-d800bfd7d7a4",
   "metadata": {},
   "outputs": [
    {
     "name": "stdout",
     "output_type": "stream",
     "text": [
      " 10\n",
      " 30\n"
     ]
    },
    {
     "name": "stdout",
     "output_type": "stream",
     "text": [
      "SOMA = 40\n"
     ]
    }
   ],
   "source": [
    "A = int(input(\"\"))\n",
    "B = int(input(\"\"))\n",
    "SOMA = A + B\n",
    "print(f\"SOMA = {SOMA}\")"
   ]
  },
  {
   "cell_type": "code",
   "execution_count": 46,
   "id": "9110b332-93f7-4f80-8c7a-08570e6b108a",
   "metadata": {},
   "outputs": [
    {
     "name": "stdout",
     "output_type": "stream",
     "text": [
      " 3\n",
      " 9\n"
     ]
    },
    {
     "name": "stdout",
     "output_type": "stream",
     "text": [
      "PROD = 27\n"
     ]
    }
   ],
   "source": [
    "A = int(input(\"\"))\n",
    "B = int(input(\"\"))\n",
    "PROD = A * B\n",
    "print(f\"PROD = {PROD}\")"
   ]
  },
  {
   "cell_type": "code",
   "execution_count": 53,
   "id": "ccb4fdb6-6866-4898-be50-3e66f927b57a",
   "metadata": {},
   "outputs": [
    {
     "name": "stdout",
     "output_type": "stream",
     "text": [
      " 25\n",
      " 100\n",
      " 5.50\n"
     ]
    },
    {
     "name": "stdout",
     "output_type": "stream",
     "text": [
      "NUMBER = 25\n",
      "SALARY = U$ 550.00\n"
     ]
    }
   ],
   "source": [
    "NUMBER = int(input(\"\"))\n",
    "HOURS = int(input(\"\"))\n",
    "VALOR_SALARY = float(input(\"\"))\n",
    "SALARY = HOURS * VALOR_SALARY\n",
    "print(f\"NUMBER = {NUMBER}\")\n",
    "print(f\"SALARY = U$ {SALARY:.2f}\")"
   ]
  },
  {
   "cell_type": "code",
   "execution_count": 54,
   "id": "88331396-889b-4d1e-95e2-e22b1d6d984c",
   "metadata": {},
   "outputs": [
    {
     "name": "stdout",
     "output_type": "stream",
     "text": [
      " 5\n",
      " 6\n",
      " 7\n",
      " 8\n"
     ]
    },
    {
     "name": "stdout",
     "output_type": "stream",
     "text": [
      "DIFERENCA = -26\n"
     ]
    }
   ],
   "source": [
    "A = int(input(\"\"))\n",
    "B = int(input(\"\"))\n",
    "C = int(input(\"\"))\n",
    "D = int(input(\"\"))\n",
    "DIFERENCA = (A * B - C * D)\n",
    "print(f\"DIFERENCA = {DIFERENCA}\")"
   ]
  },
  {
   "cell_type": "code",
   "execution_count": 60,
   "id": "ffbc60f6-fd66-4b4d-9046-8eb102f1b285",
   "metadata": {},
   "outputs": [
    {
     "name": "stdout",
     "output_type": "stream",
     "text": [
      " 12\n",
      " 1\n",
      " 5.30\n",
      " 16\n",
      " 2\n",
      " 5.10\n"
     ]
    },
    {
     "name": "stdout",
     "output_type": "stream",
     "text": [
      "VALOR A PAGAR: R$ 15.50\n"
     ]
    }
   ],
   "source": [
    "CODIGO_PECA = int(input(\"\"))\n",
    "QTD_PECA = int(input(\"\"))\n",
    "VALOR_PECA = float(input(\"\"))\n",
    "\n",
    "CODIGO_PECA2= int(input(\"\"))\n",
    "QTD_PECA2 = int(input(\"\"))\n",
    "VALOR_PECA2 = float(input(\"\"))\n",
    "\n",
    "VALOR_PAGAR = (QTD_PECA * VALOR_PECA) + (QTD_PECA2 * VALOR_PECA2)\n",
    "\n",
    "print(f\"VALOR A PAGAR: R$ {VALOR_PAGAR:.2f}\")"
   ]
  },
  {
   "cell_type": "code",
   "execution_count": 7,
   "id": "f6d378d5-8157-49ff-89c2-33ade0a5493b",
   "metadata": {},
   "outputs": [
    {
     "name": "stdout",
     "output_type": "stream",
     "text": [
      " 12 1 5.30\n",
      " 16 2 5.10\n"
     ]
    },
    {
     "name": "stdout",
     "output_type": "stream",
     "text": [
      "VALOR A PAGAR: R$ 15.50\n"
     ]
    }
   ],
   "source": [
    "peca_1, quantidade_1, valor_1 = input().split()\n",
    "peca_2, quantidade_2, valor_2 = input().split()\n",
    "\n",
    "quantidade_1 = int(quantidade_1)\n",
    "quantidade_2 = int(quantidade_2)\n",
    "valor_1 = float(valor_1)\n",
    "valor_2 = float(valor_2)\n",
    "total = (quantidade_1 * valor_1) + (quantidade_2 * valor_2)\n",
    "\n",
    "print(f\"VALOR A PAGAR: R$ {total:.2f}\")"
   ]
  }
 ],
 "metadata": {
  "kernelspec": {
   "display_name": "Python 3 (ipykernel)",
   "language": "python",
   "name": "python3"
  },
  "language_info": {
   "codemirror_mode": {
    "name": "ipython",
    "version": 3
   },
   "file_extension": ".py",
   "mimetype": "text/x-python",
   "name": "python",
   "nbconvert_exporter": "python",
   "pygments_lexer": "ipython3",
   "version": "3.11.7"
  }
 },
 "nbformat": 4,
 "nbformat_minor": 5
}

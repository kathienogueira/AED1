{
 "cells": [
  {
   "cell_type": "code",
   "execution_count": 4,
   "id": "562994e6-d48a-4dbe-a3c3-2d7b040e1103",
   "metadata": {},
   "outputs": [],
   "source": [
    "consumo_diario = [50,45,55,60,48,52,47,49,53,51,50,46,54,61,49,53,48,50,52,47,56,50,55,60,48,52,47,49,53,51]    "
   ]
  },
  {
   "cell_type": "code",
   "execution_count": 10,
   "id": "c4071cc7-15f3-4b88-ae3f-81a6acc7a731",
   "metadata": {},
   "outputs": [
    {
     "name": "stdout",
     "output_type": "stream",
     "text": [
      "A média do consumo diário é: 51.37\n",
      "Soma: 1541 e dividido por 30 é 51.36666666666667\n"
     ]
    }
   ],
   "source": [
    "soma = 0\n",
    "\n",
    "for i in consumo_diario: \n",
    "    soma += i \n",
    "media = soma / len(consumo_diario)\n",
    "print(f'A média do consumo diário é: {media:.2f}')\n",
    "print(f'Soma: {soma} e dividido por 30 é {soma/30}')"
   ]
  },
  {
   "cell_type": "code",
   "execution_count": 11,
   "id": "be8c84e9-edf4-4dd2-85ff-09506398bbae",
   "metadata": {},
   "outputs": [],
   "source": [
    "produtividade = [ [5, 7, 6, 8, 7], #funcionário 1\n",
    "                  [6, 5, 6, 7, 6], #funcionário 2\n",
    "                  [8, 9, 7, 8, 9], #funcionário 3\n",
    "                  [4, 6, 5, 5, 6], #funcionário 4\n",
    "                  [7, 8, 7, 8, 7] ] #funcionário 5\n"
   ]
  },
  {
   "cell_type": "code",
   "execution_count": 12,
   "id": "176ce322-fb43-42aa-b78c-513adff1e2ac",
   "metadata": {},
   "outputs": [],
   "source": [
    "func = [0, 0, 0, 0, 0]"
   ]
  },
  {
   "cell_type": "code",
   "execution_count": 14,
   "id": "c92eedb3-410b-412c-82b2-08bd60bd72aa",
   "metadata": {},
   "outputs": [],
   "source": [
    "f = 0\n",
    "\n",
    "for tarefas in produtividade: \n",
    "    soma = 0\n",
    "    for tarefa in tarefas:\n",
    "        soma += tarefa\n",
    "    func[f] = soma \n",
    "    f += 1"
   ]
  },
  {
   "cell_type": "code",
   "execution_count": 18,
   "id": "8526f988-6f17-456d-bfbc-dc64f33e8292",
   "metadata": {},
   "outputs": [
    {
     "name": "stdout",
     "output_type": "stream",
     "text": [
      "O 3o. é o mais produtivo com 41 tarefas realizadas\n"
     ]
    }
   ],
   "source": [
    "maior = max(func)\n",
    "funcionario = func.index(maior)+1\n",
    "\n",
    "print(f\"O {funcionario}o. é o mais produtivo com {maior} tarefas realizadas\")"
   ]
  },
  {
   "cell_type": "code",
   "execution_count": 20,
   "id": "1f4e5d78-2b4d-4d9a-a8e6-db859c85f347",
   "metadata": {},
   "outputs": [
    {
     "name": "stdout",
     "output_type": "stream",
     "text": [
      "O 1o. funcionário produziu 33 tarefas na semana.\n",
      "O 2o. funcionário produziu 30 tarefas na semana.\n",
      "O 3o. funcionário produziu 41 tarefas na semana.\n",
      "O 4o. funcionário produziu 26 tarefas na semana.\n",
      "O 5o. funcionário produziu 37 tarefas na semana.\n"
     ]
    }
   ],
   "source": [
    "for i in range(len(func)):\n",
    "    print(f\"O {i+1}o. funcionário produziu {func[i]} tarefas na semana.\")"
   ]
  },
  {
   "cell_type": "code",
   "execution_count": 22,
   "id": "9e9d76ff-cc66-4a96-8f02-11f393305fff",
   "metadata": {},
   "outputs": [],
   "source": [
    "participantes_evento = ['Ana', 'Bruno', 'Carlos','Diana', 'Eduardo']"
   ]
  },
  {
   "cell_type": "code",
   "execution_count": 25,
   "id": "d364ad8f-aca0-46ae-bcf1-a8997e6e1e6d",
   "metadata": {},
   "outputs": [
    {
     "name": "stdout",
     "output_type": "stream",
     "text": [
      "True\n"
     ]
    }
   ],
   "source": [
    "nome = 'Carlos'\n",
    "\n",
    "def verificar_participante(participantes_evento, nome):\n",
    "    return nome in participantes_evento\n",
    "\n",
    "inscrito = verificar_participante(participantes_evento, nome)\n",
    "print(inscrito)"
   ]
  },
  {
   "cell_type": "code",
   "execution_count": null,
   "id": "5b6ecec6-75a6-4f3f-b739-01509e9e977a",
   "metadata": {},
   "outputs": [],
   "source": []
  }
 ],
 "metadata": {
  "kernelspec": {
   "display_name": "Python 3 (ipykernel)",
   "language": "python",
   "name": "python3"
  },
  "language_info": {
   "codemirror_mode": {
    "name": "ipython",
    "version": 3
   },
   "file_extension": ".py",
   "mimetype": "text/x-python",
   "name": "python",
   "nbconvert_exporter": "python",
   "pygments_lexer": "ipython3",
   "version": "3.11.7"
  }
 },
 "nbformat": 4,
 "nbformat_minor": 5
}

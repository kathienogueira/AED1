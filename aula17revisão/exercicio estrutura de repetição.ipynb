{
 "cells": [
  {
   "cell_type": "markdown",
   "id": "e41b0ee0-16d7-442a-85b7-0bb9be85fad1",
   "metadata": {},
   "source": [
    "# Estrutura de Repetição\n",
    "## Resolva:\n",
    "Imagine que você é responsável por monitorar o consumo de energia elétrica em uma empresa durante um mês. A empresa deseja saber a média de consumo diário de energia para implementar medidas de eficiência energética. Você recebe uma lista com o consumo diário de energia (em kWh) durante os 30 dias do mês e precisa calcular a média desse consumo. Para isso, você decide escrever um programa em Python que utilize comandos de repetição para somar os consumos diários e, em seguida, calcular a média. Esses valores estão em uma lista:"
   ]
  },
  {
   "cell_type": "code",
   "execution_count": 4,
   "id": "562994e6-d48a-4dbe-a3c3-2d7b040e1103",
   "metadata": {},
   "outputs": [],
   "source": [
    "consumo_diario = [50,45,55,60,48,52,47,49,53,51,50,46,54,61,49,53,48,50,52,47,56,50,55,60,48,52,47,49,53,51]    "
   ]
  },
  {
   "cell_type": "code",
   "execution_count": 10,
   "id": "c4071cc7-15f3-4b88-ae3f-81a6acc7a731",
   "metadata": {},
   "outputs": [
    {
     "name": "stdout",
     "output_type": "stream",
     "text": [
      "A média do consumo diário é: 51.37\n",
      "Soma: 1541 e dividido por 30 é 51.36666666666667\n"
     ]
    }
   ],
   "source": [
    "soma = 0\n",
    "\n",
    "for i in consumo_diario: \n",
    "    soma += i \n",
    "media = soma / len(consumo_diario)\n",
    "print(f'A média do consumo diário é: {media:.2f}')\n",
    "print(f'Soma: {soma} e dividido por 30 é {soma/30}')"
   ]
  },
  {
   "cell_type": "markdown",
   "id": "5cd57063-bbd4-48c7-96e3-dabee7f4a427",
   "metadata": {},
   "source": [
    "# Listas, Vetores e Matrizes\n",
    "## \n",
    "Resolva\n",
    "\n",
    "Imagine que você trabalha no departamento de recursos humanos de uma empresa e precisa analisar a produtividade dos funcionários ao longo de uma semana. Você tem uma matriz onde cada linha representa um funcionário e cada coluna representa o número de tarefas completadas em um dia da semana (de segunda a sexta-feira). Seu objetivo é calcular a produtividade semanal de cada funcionário (soma das tarefas completadas durante a semana) e identificar o funcionário mais produtivo."
   ]
  },
  {
   "cell_type": "code",
   "execution_count": null,
   "id": "cbcc6539-f661-4f0a-85ed-3dc3d7768b59",
   "metadata": {},
   "outputs": [],
   "source": [
    "produtividade = [ [5, 7, 6, 8, 7], #funcionário 1\n",
    "                  [6, 5, 6, 7, 6], #funcionário 2\n",
    "                  [8, 9, 7, 8, 9], #funcionário 3\n",
    "                  [4, 6, 5, 5, 6], #funcionário 4\n",
    "                  [7, 8, 7, 8, 7] ] #funcionário 5\n"
   ]
  },
  {
   "cell_type": "code",
   "execution_count": 12,
   "id": "176ce322-fb43-42aa-b78c-513adff1e2ac",
   "metadata": {},
   "outputs": [],
   "source": [
    "func = [0, 0, 0, 0, 0]"
   ]
  },
  {
   "cell_type": "code",
   "execution_count": 14,
   "id": "c92eedb3-410b-412c-82b2-08bd60bd72aa",
   "metadata": {},
   "outputs": [],
   "source": [
    "f = 0\n",
    "\n",
    "for tarefas in produtividade: \n",
    "    soma = 0\n",
    "    for tarefa in tarefas:\n",
    "        soma += tarefa\n",
    "    func[f] = soma \n",
    "    f += 1"
   ]
  },
  {
   "cell_type": "code",
   "execution_count": 18,
   "id": "8526f988-6f17-456d-bfbc-dc64f33e8292",
   "metadata": {},
   "outputs": [
    {
     "name": "stdout",
     "output_type": "stream",
     "text": [
      "O 3o. é o mais produtivo com 41 tarefas realizadas\n"
     ]
    }
   ],
   "source": [
    "maior = max(func)\n",
    "funcionario = func.index(maior)+1\n",
    "\n",
    "print(f\"O {funcionario}o. é o mais produtivo com {maior} tarefas realizadas\")"
   ]
  },
  {
   "cell_type": "code",
   "execution_count": 20,
   "id": "1f4e5d78-2b4d-4d9a-a8e6-db859c85f347",
   "metadata": {},
   "outputs": [
    {
     "name": "stdout",
     "output_type": "stream",
     "text": [
      "O 1o. funcionário produziu 33 tarefas na semana.\n",
      "O 2o. funcionário produziu 30 tarefas na semana.\n",
      "O 3o. funcionário produziu 41 tarefas na semana.\n",
      "O 4o. funcionário produziu 26 tarefas na semana.\n",
      "O 5o. funcionário produziu 37 tarefas na semana.\n"
     ]
    }
   ],
   "source": [
    "for i in range(len(func)):\n",
    "    print(f\"O {i+1}o. funcionário produziu {func[i]} tarefas na semana.\")"
   ]
  },
  {
   "cell_type": "markdown",
   "id": "040e1df0-8ecb-4cf3-ba0c-63a5d6e37d5e",
   "metadata": {},
   "source": [
    "# Modularização de algoritmos (funções)\n",
    "## \n",
    "Resolva:\n",
    "Imagine que você é um desenvolvedor de software para uma empresa de eventos. A empresa organiza diversos eventos ao longo do ano, e cada evento tem uma lista de participantes. A empresa deseja uma funcionalidade que permita verificar se um determinado participante está inscrito em um evento específico. Você precisa criar uma função que receba a lista de participantes de um evento e o nome de um participante e retorne um valor booleano indicando se o participante está inscrito ou não"
   ]
  },
  {
   "cell_type": "code",
   "execution_count": 22,
   "id": "9e9d76ff-cc66-4a96-8f02-11f393305fff",
   "metadata": {},
   "outputs": [],
   "source": [
    "participantes_evento = ['Ana', 'Bruno', 'Carlos','Diana', 'Eduardo']"
   ]
  },
  {
   "cell_type": "code",
   "execution_count": 25,
   "id": "d364ad8f-aca0-46ae-bcf1-a8997e6e1e6d",
   "metadata": {},
   "outputs": [
    {
     "name": "stdout",
     "output_type": "stream",
     "text": [
      "True\n"
     ]
    }
   ],
   "source": [
    "nome = 'Carlos'\n",
    "\n",
    "def verificar_participante(participantes_evento, nome):\n",
    "    return nome in participantes_evento\n",
    "\n",
    "inscrito = verificar_participante(participantes_evento, nome)\n",
    "print(inscrito)"
   ]
  },
  {
   "cell_type": "code",
   "execution_count": 1,
   "id": "5b6ecec6-75a6-4f3f-b739-01509e9e977a",
   "metadata": {},
   "outputs": [
    {
     "name": "stdout",
     "output_type": "stream",
     "text": [
      "Digite o nome do participante:  Kathie\n"
     ]
    }
   ],
   "source": [
    "participantes_evento = ['Ana', 'Bruno', 'Carlos', 'Diana', 'Eduardo'] \n",
    "nome_participante = input(\"Digite o nome do participante: \")"
   ]
  },
  {
   "cell_type": "code",
   "execution_count": 2,
   "id": "bbfddda2-2166-4288-9529-2a790adbfdad",
   "metadata": {},
   "outputs": [],
   "source": [
    "def verificar_participante(participantes, nome):\n",
    "    if nome in participantes:\n",
    "        return True\n",
    "    else:\n",
    "        return False"
   ]
  },
  {
   "cell_type": "code",
   "execution_count": 3,
   "id": "128638cc-3415-4cb3-8098-ae1c39cf40f9",
   "metadata": {},
   "outputs": [
    {
     "name": "stdout",
     "output_type": "stream",
     "text": [
      "Kathie Não participou do evento!\n"
     ]
    }
   ],
   "source": [
    "# teste da função\n",
    "if verificar_participante(participantes_evento, nome_participante):\n",
    "    print(f\"{nome_participante} participou do evento!\")\n",
    "else:\n",
    "    print(f\"{nome_participante} Não participou do evento!\")"
   ]
  },
  {
   "cell_type": "markdown",
   "id": "eefd3915",
   "metadata": {},
   "source": [
    "# MÓDULOS. PANDAS\n",
    "## Resolva:\n",
    "Você trabatha como analista de dados em uma pequena loja de conveniência que deseja entender melhor suas vendas diárias. A loja coleta informações sobre as vendas de produtos em um DataFrame, incluindo colunas como data, produto, quantidade_vendida e receita. Seu objetivo é utilizar o pacote Pandas em Python para realizar algumas análises simples, como calcular a receita total, identificar o produto mais vendido e calcular a média de vendas diárias."
   ]
  },
  {
   "cell_type": "code",
   "execution_count": 3,
   "id": "55dfc6e4",
   "metadata": {},
   "outputs": [],
   "source": [
    "import pandas as pd\n",
    "dados_vendas = pd.DataFrame({ 'data': ['2024-06-01', '2024-06-01', '2024-06-02', '2024-06-02', '2024-06-03'],\n",
    "                             'produto': ['Camiseta', 'Calça', 'Camiseta', 'Tênis', 'Calça'], 'quantidade_vendida': [5, 2, 3, 4, 1],\n",
    "                             'receita': [100.00, 200.00, 60.00, 400.00, 100.00] })"
   ]
  },
  {
   "cell_type": "code",
   "execution_count": 5,
   "id": "13aa4807",
   "metadata": {},
   "outputs": [
    {
     "name": "stdout",
     "output_type": "stream",
     "text": [
      "Dados de vendas: \n",
      "         data   produto  quantidade_vendida  receita\n",
      "0  2024-06-01  Camiseta                   5    100.0\n",
      "1  2024-06-01     Calça                   2    200.0\n",
      "2  2024-06-02  Camiseta                   3     60.0\n",
      "3  2024-06-02     Tênis                   4    400.0\n",
      "4  2024-06-03     Calça                   1    100.0\n"
     ]
    }
   ],
   "source": [
    "print(\"Dados de vendas: \")\n",
    "print(dados_vendas)"
   ]
  },
  {
   "cell_type": "code",
   "execution_count": 6,
   "id": "13d57191",
   "metadata": {},
   "outputs": [
    {
     "name": "stdout",
     "output_type": "stream",
     "text": [
      "Receita total: R$860.00\n"
     ]
    }
   ],
   "source": [
    "#Calculando a receita total\n",
    "receita_total = dados_vendas['receita'].sum()\n",
    "print(f'Receita total: R${receita_total:.2f}')"
   ]
  },
  {
   "cell_type": "code",
   "execution_count": 7,
   "id": "bcf91f3b",
   "metadata": {},
   "outputs": [
    {
     "name": "stdout",
     "output_type": "stream",
     "text": [
      "Produto Mais Vendido: Camiseta (Quantidade: 8)\n"
     ]
    }
   ],
   "source": [
    "#Identificando o Produto Mais Vendido\n",
    "produto_mais_vendido = dados_vendas.groupby('produto')['quantidade_vendida'].sum().idxmax()\n",
    "quantidade_produto_mais_vendido = dados_vendas.groupby('produto')['quantidade_vendida'].sum().max()\n",
    "print(f\"Produto Mais Vendido: {produto_mais_vendido} (Quantidade: {quantidade_produto_mais_vendido})\")"
   ]
  },
  {
   "cell_type": "code",
   "execution_count": 8,
   "id": "87ee4631",
   "metadata": {},
   "outputs": [
    {
     "name": "stdout",
     "output_type": "stream",
     "text": [
      "Média de Vendas Diárias: R$286.67\n"
     ]
    }
   ],
   "source": [
    "#Calculando a Média de Vendas Diárias\n",
    "media_vendas_diarias = dados_vendas.groupby('data')['receita'].sum().mean()\n",
    "print(f\"Média de Vendas Diárias: R${media_vendas_diarias:.2f}\")"
   ]
  },
  {
   "cell_type": "markdown",
   "id": "e1b2ffce",
   "metadata": {},
   "source": [
    "## Outra possibilidade de resolução:\n"
   ]
  },
  {
   "cell_type": "code",
   "execution_count": 9,
   "id": "5a0ebbb7",
   "metadata": {},
   "outputs": [
    {
     "name": "stdout",
     "output_type": "stream",
     "text": [
      "Produto mais vendido: Camiseta (8 unidades)\n"
     ]
    }
   ],
   "source": [
    "#Identificando o Produto Mais Vendido\n",
    "\n",
    "produto_quantidades = {}\n",
    "\n",
    "for i, produto in enumerate(dados_vendas['produto']):\n",
    "    if produto in produto_quantidades:\n",
    "        produto_quantidades[produto] += dados_vendas['quantidade_vendida'][i]\n",
    "    else:\n",
    "        produto_quantidades[produto] = dados_vendas['quantidade_vendida'][i]\n",
    "\n",
    "produto_mais_vendido = max(produto_quantidades, key = produto_quantidades.get)\n",
    "quantidade_produto_mais_vendido = produto_quantidades[produto_mais_vendido]\n",
    "\n",
    "print(f'Produto mais vendido: {produto_mais_vendido} ({quantidade_produto_mais_vendido} unidades)')"
   ]
  },
  {
   "cell_type": "code",
   "execution_count": 15,
   "id": "553ecaa5",
   "metadata": {},
   "outputs": [
    {
     "name": "stdout",
     "output_type": "stream",
     "text": [
      "\n",
      "Média de vendas por dia: R$ 286.67\n"
     ]
    }
   ],
   "source": [
    "#Calculando a média de vendas diárias\n",
    "\n",
    "dados_vendas['data'] = pd.to_datetime(dados_vendas['data'])\n",
    "dias_unicos = dados_vendas['data'].dt.date.unique()\n",
    "media_vendas_por_dia= {}\n",
    "\n",
    "for dia in dias_unicos:\n",
    "    vendas_no_dia = dados_vendas[dados_vendas['data'].dt.date == dia]['quantidade_vendida'].sum()\n",
    "    media_vendas_por_dia[dia] = vendas_no_dia\n",
    "\n",
    "media_vendas_por_dia = sum(media_vendas_por_dia.values())/len(media_vendas_por_dia)\n",
    "print(f'\\nMédia de vendas por dia: R$ {media_vendas_diarias:.2f}')"
   ]
  }
 ],
 "metadata": {
  "kernelspec": {
   "display_name": "Python 3 (ipykernel)",
   "language": "python",
   "name": "python3"
  },
  "language_info": {
   "codemirror_mode": {
    "name": "ipython",
    "version": 3
   },
   "file_extension": ".py",
   "mimetype": "text/x-python",
   "name": "python",
   "nbconvert_exporter": "python",
   "pygments_lexer": "ipython3",
   "version": "3.11.7"
  }
 },
 "nbformat": 4,
 "nbformat_minor": 5
}

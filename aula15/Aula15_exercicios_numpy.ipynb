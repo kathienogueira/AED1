{
 "cells": [
  {
   "cell_type": "markdown",
   "metadata": {},
   "source": [
    "# Aula 15 - Algoritmos e Estrutura de Dados \n",
    "## Exercícios sobre Numpy"
   ]
  },
  {
   "cell_type": "markdown",
   "metadata": {},
   "source": [
    "## Fácil"
   ]
  },
  {
   "cell_type": "markdown",
   "metadata": {},
   "source": [
    "⚫1- Importe numpy como ‘np’ e imprima o número da versão."
   ]
  },
  {
   "cell_type": "code",
   "execution_count": 1,
   "metadata": {},
   "outputs": [
    {
     "name": "stdout",
     "output_type": "stream",
     "text": [
      "1.26.4\n"
     ]
    }
   ],
   "source": [
    "import numpy as np \n",
    "print (np.__version__)"
   ]
  },
  {
   "cell_type": "markdown",
   "metadata": {},
   "source": [
    "⚫2- Crie uma matriz 1D com números de 0 a 9"
   ]
  },
  {
   "cell_type": "code",
   "execution_count": 3,
   "metadata": {},
   "outputs": [
    {
     "name": "stdout",
     "output_type": "stream",
     "text": [
      "[0 1 2 3 4 5 6 7 8 9]\n"
     ]
    }
   ],
   "source": [
    "array = np.arange(10)\n",
    "print(array)"
   ]
  },
  {
   "cell_type": "markdown",
   "metadata": {},
   "source": [
    "⚫3- Crie uma matriz booleana numpy 3×3 com ‘True’"
   ]
  },
  {
   "cell_type": "code",
   "execution_count": 9,
   "metadata": {},
   "outputs": [
    {
     "name": "stdout",
     "output_type": "stream",
     "text": [
      "[[2 4 6]\n",
      " [2 4 6]\n",
      " [2 4 6]]\n"
     ]
    }
   ],
   "source": [
    "array1 = np.array([[2,4,6],[2,4,6],[2,4,6]])\n",
    "mascara = (array1 % 2 == 0)\n",
    "print(array1)"
   ]
  },
  {
   "cell_type": "code",
   "execution_count": 10,
   "metadata": {},
   "outputs": [
    {
     "name": "stdout",
     "output_type": "stream",
     "text": [
      "[[ True  True  True]\n",
      " [ True  True  True]\n",
      " [ True  True  True]]\n"
     ]
    }
   ],
   "source": [
    "print(mascara)"
   ]
  },
  {
   "cell_type": "markdown",
   "metadata": {},
   "source": [
    "⚫4- Extraia todos os números ímpares de ‘arr’"
   ]
  },
  {
   "cell_type": "code",
   "execution_count": 2,
   "metadata": {},
   "outputs": [
    {
     "name": "stdout",
     "output_type": "stream",
     "text": [
      "[1 3 5 7 9]\n"
     ]
    }
   ],
   "source": [
    "import numpy as np\n",
    "\n",
    "array2 = np.array([0,1,2,3,4,5,6,7,8,9])\n",
    "numeros_impares = array2[array2 % 2 == 1]\n",
    "print(numeros_impares)"
   ]
  },
  {
   "cell_type": "markdown",
   "metadata": {},
   "source": [
    "⚫5- Substitua todos os números ímpares arr por -1"
   ]
  },
  {
   "cell_type": "code",
   "execution_count": 20,
   "metadata": {},
   "outputs": [
    {
     "name": "stdout",
     "output_type": "stream",
     "text": [
      "[-1  2 -1  4 -1  6 -1  8 -1]\n"
     ]
    }
   ],
   "source": [
    "array[array % 2 == 1] = -1\n",
    "print(array)"
   ]
  },
  {
   "cell_type": "markdown",
   "metadata": {},
   "source": [
    "## Médio"
   ]
  },
  {
   "cell_type": "markdown",
   "metadata": {},
   "source": [
    "⚫1- Substitua todos os números ímpares em arr com -1 sem alterar arr"
   ]
  },
  {
   "cell_type": "code",
   "execution_count": 19,
   "metadata": {},
   "outputs": [
    {
     "name": "stdout",
     "output_type": "stream",
     "text": [
      "Array original: [0 1 2 3 4 5 6 7 8 9]\n",
      "Array com números ímpares substituídos: [ 0 -1  2 -1  4 -1  6 -1  8 -1]\n"
     ]
    }
   ],
   "source": [
    "import numpy as np\n",
    "\n",
    "array2 = np.arange(10)\n",
    "array_copy = np.copy(array2)\n",
    "array_copy[array_copy % 2 == 1] = -1\n",
    "\n",
    "print(\"Array original:\", array2)\n",
    "print(\"Array com números ímpares substituídos:\", array_copy)"
   ]
  },
  {
   "cell_type": "markdown",
   "metadata": {},
   "source": [
    "⚫2- Converta uma matriz 1D para uma matriz 2D com 2 linhas:"
   ]
  },
  {
   "cell_type": "code",
   "execution_count": 25,
   "metadata": {},
   "outputs": [
    {
     "name": "stdout",
     "output_type": "stream",
     "text": [
      "[0 1 2 3 4 5]\n"
     ]
    },
    {
     "data": {
      "text/plain": [
       "array([[0, 1, 2],\n",
       "       [3, 4, 5]])"
      ]
     },
     "execution_count": 25,
     "metadata": {},
     "output_type": "execute_result"
    }
   ],
   "source": [
    "import numpy as np\n",
    "\n",
    "array3 = np.arange(6)\n",
    "print(array3)\n",
    "array3.reshape(2, -1)"
   ]
  },
  {
   "cell_type": "markdown",
   "metadata": {},
   "source": [
    "⚫3- Empilhe matrizes verticalmente:"
   ]
  },
  {
   "cell_type": "code",
   "execution_count": 27,
   "metadata": {},
   "outputs": [
    {
     "name": "stdout",
     "output_type": "stream",
     "text": [
      "Matriz 1:\n",
      "[[1 2 3]\n",
      " [4 5 6]]\n",
      "Matriz 2:\n",
      "[[ 7  8  9]\n",
      " [10 11 12]]\n",
      "Matrizes empilhadas verticalmente:\n",
      "[[ 1  2  3]\n",
      " [ 4  5  6]\n",
      " [ 7  8  9]\n",
      " [10 11 12]]\n"
     ]
    }
   ],
   "source": [
    "import numpy as np\n",
    "\n",
    "matriz1 = np.array([[1, 2, 3], [4, 5, 6]])\n",
    "matriz2 = np.array([[7, 8, 9], [10, 11, 12]])\n",
    "matrizes_empilhadas = np.vstack((matriz1, matriz2))\n",
    "\n",
    "print(\"Matriz 1:\")\n",
    "print(matriz1)\n",
    "print(\"Matriz 2:\")\n",
    "print(matriz2)\n",
    "print(\"Matrizes empilhadas verticalmente:\")\n",
    "print(matrizes_empilhadas)"
   ]
  },
  {
   "cell_type": "markdown",
   "metadata": {},
   "source": [
    "⚫4- Empilhe as matrizes horizontalmente:"
   ]
  },
  {
   "cell_type": "code",
   "execution_count": 28,
   "metadata": {},
   "outputs": [
    {
     "name": "stdout",
     "output_type": "stream",
     "text": [
      "Matrizes empilhadas verticalmente:\n",
      "[[ 1  2  3  7  8  9]\n",
      " [ 4  5  6 10 11 12]]\n"
     ]
    }
   ],
   "source": [
    "matriz1 = np.array([[1, 2, 3], [4, 5, 6]])\n",
    "matriz2 = np.array([[7, 8, 9], [10, 11, 12]])\n",
    "matrizes_empilhadas = np.hstack((matriz1, matriz2))\n",
    "print(\"Matrizes empilhadas verticalmente:\")\n",
    "print(matrizes_empilhadas)"
   ]
  },
  {
   "cell_type": "markdown",
   "metadata": {},
   "source": [
    "⚫5- Crie o seguinte padrão sem codificação, usando apenas funções numpy e a matriz de entrada abaixo ‘a’."
   ]
  },
  {
   "cell_type": "code",
   "execution_count": 30,
   "metadata": {},
   "outputs": [],
   "source": [
    "a = np.array([1,2,3])"
   ]
  },
  {
   "cell_type": "code",
   "execution_count": 31,
   "metadata": {},
   "outputs": [
    {
     "data": {
      "text/plain": [
       "array([1, 1, 1, 2, 2, 2, 3, 3, 3, 1, 2, 3, 1, 2, 3, 1, 2, 3])"
      ]
     },
     "execution_count": 31,
     "metadata": {},
     "output_type": "execute_result"
    }
   ],
   "source": [
    "import numpy as np\n",
    "np.r_[np.repeat(a, 3), np.tile(a, 3)]"
   ]
  },
  {
   "cell_type": "markdown",
   "metadata": {},
   "source": [
    "## Difícil "
   ]
  },
  {
   "cell_type": "markdown",
   "metadata": {},
   "source": [
    "⚫1- Calcule as contagens de valores únicos na linha."
   ]
  },
  {
   "cell_type": "code",
   "execution_count": 3,
   "metadata": {},
   "outputs": [
    {
     "name": "stdout",
     "output_type": "stream",
     "text": [
      "[[ 9  9  4  8  8  1  5  3  6  3]\n",
      " [ 3  3  2  1  9  5  1 10  7  3]\n",
      " [ 5  2  6  4  5  5  4  8  2  2]\n",
      " [ 8  8  1  3 10 10  4  3  6  9]\n",
      " [ 2  1  8  7  3  1  9  3  6  2]\n",
      " [ 9  2  6  5  3  9  4  6  1 10]]\n"
     ]
    }
   ],
   "source": [
    "import numpy as np\n",
    "np.random.seed(100)\n",
    "arr = np.random.randint(1,11,size=(6, 10))\n",
    "print(arr)"
   ]
  },
  {
   "cell_type": "code",
   "execution_count": 5,
   "metadata": {},
   "outputs": [
    {
     "name": "stdout",
     "output_type": "stream",
     "text": [
      "[{1: 1, 3: 2, 4: 1, 5: 1, 6: 1, 8: 2, 9: 2}\n",
      " {1: 2, 2: 1, 3: 3, 5: 1, 7: 1, 9: 1, 10: 1}\n",
      " {2: 3, 4: 2, 5: 3, 6: 1, 8: 1}\n",
      " {1: 1, 3: 2, 4: 1, 6: 1, 8: 2, 9: 1, 10: 2}\n",
      " {1: 2, 2: 2, 3: 2, 6: 1, 7: 1, 8: 1, 9: 1}\n",
      " {1: 1, 2: 1, 3: 1, 4: 1, 5: 1, 6: 2, 9: 2, 10: 1}]\n"
     ]
    }
   ],
   "source": [
    "import numpy as np\n",
    "\n",
    "def contar_valores_unicos_linha(linha):\n",
    "    valores_unicos, contagens = np.unique(linha, return_counts=True)\n",
    "    return dict(zip(valores_unicos, contagens))\n",
    "\n",
    "contagens_por_linha = np.apply_along_axis(contar_valores_unicos_linha, axis=1, arr=arr)\n",
    "print(contagens_por_linha)"
   ]
  }
 ],
 "metadata": {
  "kernelspec": {
   "display_name": "Python 3 (ipykernel)",
   "language": "python",
   "name": "python3"
  },
  "language_info": {
   "codemirror_mode": {
    "name": "ipython",
    "version": 3
   },
   "file_extension": ".py",
   "mimetype": "text/x-python",
   "name": "python",
   "nbconvert_exporter": "python",
   "pygments_lexer": "ipython3",
   "version": "3.11.7"
  }
 },
 "nbformat": 4,
 "nbformat_minor": 4
}

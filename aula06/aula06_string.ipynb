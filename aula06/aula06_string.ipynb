{
 "cells": [
  {
   "cell_type": "code",
   "execution_count": 1,
   "id": "f0f681e1",
   "metadata": {},
   "outputs": [
    {
     "name": "stdout",
     "output_type": "stream",
     "text": [
      "Nogueira\n"
     ]
    }
   ],
   "source": [
    "nome = 'Nogueira'\n",
    "print (nome)"
   ]
  },
  {
   "cell_type": "code",
   "execution_count": 2,
   "id": "d825104a",
   "metadata": {},
   "outputs": [
    {
     "name": "stdout",
     "output_type": "stream",
     "text": [
      "Meu sobrenome é Nogueira\n"
     ]
    }
   ],
   "source": [
    "print ('Meu sobrenome é', nome)"
   ]
  },
  {
   "cell_type": "code",
   "execution_count": 3,
   "id": "1eb82bbd",
   "metadata": {},
   "outputs": [
    {
     "name": "stdout",
     "output_type": "stream",
     "text": [
      "N\n"
     ]
    }
   ],
   "source": [
    "print (nome [0])"
   ]
  },
  {
   "cell_type": "code",
   "execution_count": 5,
   "id": "9871809a",
   "metadata": {
    "scrolled": true
   },
   "outputs": [
    {
     "name": "stdout",
     "output_type": "stream",
     "text": [
      "u\n"
     ]
    }
   ],
   "source": [
    "print (nome [3])"
   ]
  },
  {
   "cell_type": "code",
   "execution_count": 7,
   "id": "77e7b93e",
   "metadata": {},
   "outputs": [
    {
     "name": "stdout",
     "output_type": "stream",
     "text": [
      "Ng\n"
     ]
    }
   ],
   "source": [
    "print (nome[0:3:2])"
   ]
  },
  {
   "cell_type": "code",
   "execution_count": 8,
   "id": "0e26226b",
   "metadata": {},
   "outputs": [
    {
     "name": "stdout",
     "output_type": "stream",
     "text": [
      "<class 'str'>\n"
     ]
    }
   ],
   "source": [
    "print(type(nome))"
   ]
  }
 ],
 "metadata": {
  "kernelspec": {
   "display_name": "Python 3 (ipykernel)",
   "language": "python",
   "name": "python3"
  },
  "language_info": {
   "codemirror_mode": {
    "name": "ipython",
    "version": 3
   },
   "file_extension": ".py",
   "mimetype": "text/x-python",
   "name": "python",
   "nbconvert_exporter": "python",
   "pygments_lexer": "ipython3",
   "version": "3.11.5"
  }
 },
 "nbformat": 4,
 "nbformat_minor": 5
}
